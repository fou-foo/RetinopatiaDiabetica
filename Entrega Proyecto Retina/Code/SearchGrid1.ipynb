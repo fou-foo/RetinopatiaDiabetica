{
 "cells": [
  {
   "cell_type": "code",
   "execution_count": 9,
   "metadata": {},
   "outputs": [],
   "source": [
    "import time\n",
    "start_time = time.time()\n",
    "import numpy as np\n",
    "import pandas as pd\n",
    "import matplotlib.pyplot as plt\n",
    "from sklearn.model_selection import train_test_split\n",
    "from sklearn.neighbors import KNeighborsClassifier\n",
    "from sklearn.svm import SVC\n",
    "from sklearn.ensemble import RandomForestClassifier\n",
    "\n",
    "\n",
    "from sklearn.linear_model import LogisticRegression\n",
    "from sklearn.pipeline import Pipeline\n",
    "from sklearn.grid_search import GridSearchCV\n",
    "\n",
    "################\n",
    "m = 4\n",
    "nombres = ['RGB.Laplaciano'+str(i+1) for i in range(m)]+['RGB.Sobelx'+str(i+1) for i in range(m)]+['RGB.Sobely'+str(i+1) for i in range(m)]+['RGB.Canny'+str(i+1) for i in range(m)]+['R'  +str(i+1) for i in range(m)]+['G' +str(i+1) for i in range(m)]+['B' +str(i+1) for i in range(m)]+['R.Espacial'+str(i+1) for i in range(m)]+['G.Espacial'+str(i+1) for i in range(m)]+['B.Espacial'+str(i+1) for i in range(m)]+['HSV.Laplaciano'+str(i+1) for i in range(m)]+['HSV.Sobelx'+str(i+1) for i in range(m)]+['HSV.Sobely'+str(i+1) for i in range(m)]+['HSV.Canny'+str(i+1) for i in range(m)]+['H'+str(i+1) for i in range(m)]+['S'+str(i+1) for i in range(m)]+['V'+str(i+1) for i in range(m)]+['H.Espacial'+str(i+1) for i in range(m)]+['S.Espacial' +str(i+1) for i in range(m)]+['V.Espacial' +str(i+1) for i in range(m)]+['Eigen' +str(i+1) for i in range(3)] +['BGR.Laplaciano'+str(i+1) for i in range(m)]+['BGR.Sobelx'+str(i+1) for i in range(m)]+['BGR.Sobely'+str(i+1) for i in range(m)]+['BGR.Canny'+str(i+1) for i in range(m)]+['PC1.'+str(i+1) for i in range(m)]+['PC2.'+str(i+1) for i in range(m)]+['PC3.'+str(i+1) for i in range(m)]+['PC1.Espacial'+str(i+1) for i in range(m)]+['PC2.Espacial'+str(i+1) for i in range(m)]+['PC3.Espacial'+str(i+1) for i in range(m)]\n",
    "y = pd.read_csv('C:\\\\Users\\\\fou-f\\\\Desktop\\\\CD2EDUARDOFOO\\\\Retina\\\\Code\\\\metadata.csv')\n",
    "datos = pd.read_csv('C:\\\\Users\\\\fou-f\\\\Desktop\\\\CD2EDUARDOFOO\\\\Retina\\\\Resultados\\\\emALLw81m11All.csv')\n",
    "datos.columns =nombres\n",
    "y = np.array(y['y'])\n",
    "train, test, y_train, y_test = train_test_split(datos, y, test_size=0.3, random_state=0) # es importante este detalle para que todos tengamos el mismo resultado\n",
    "\n",
    "####################\n"
   ]
  },
  {
   "cell_type": "code",
   "execution_count": 10,
   "metadata": {},
   "outputs": [],
   "source": [
    "\n",
    "def grid_search():\n",
    "    pipeline1  = Pipeline([ ('classifier', RandomForestClassifier(random_state = 42))])\n",
    "    #pipeline2 = Pipeline(( ('clf', KNeighborsClassifier()), ))\n",
    "    #pipeline3 = Pipeline(( ('clf', SVC()), ))\n",
    "    pipeline4 = Pipeline((('logistic', LogisticRegression()),))\n",
    "    parameters1 = {\n",
    "    'classifier__n_estimators': [i+1 for i in range(round(len(train))) if i % 30 == 1] }\n",
    "\n",
    "    #parameters2 = {\n",
    "    #'clf__n_neighbors': [ i+1 for i in range(round(len(train)**.5)) if i% 30 == 1]}\n",
    "\n",
    "    #parameters3 = {\n",
    "    #'clf__C': [0.01, 0.1, .4, 9.0],\n",
    "    #'clf__kernel': ['rbf'],\n",
    "    #'clf__gamma': [0.01, 0.1, 1.0]\n",
    "    #}\n",
    "    parameters4= { 'logistic__C' :  [ np.exp(i) for i in  range(-4, 1000, 60) ]}\n",
    "\n",
    "    #pars = [parameters1, parameters2, parameters3, parameters4]\n",
    "    #pips = [pipeline1, pipeline2, pipeline3, pipeline4]\n",
    "    pars = [parameters1, parameters4]\n",
    "    pips = [pipeline1, pipeline4]\n",
    "\n",
    "\n",
    "    print (\"starting Gridsearch\")\n",
    "    for i in range(len(pars)):\n",
    "        gs = GridSearchCV(pips[i], pars[i], verbose=1, refit=True, cv=5)\n",
    "        gs = gs.fit(np.matrix(train), y_train)\n",
    "        print (\"finished Gridsearch\")\n",
    "        print (gs.best_score_)\n",
    "    return(gs)\n",
    "    \n"
   ]
  },
  {
   "cell_type": "code",
   "execution_count": null,
   "metadata": {},
   "outputs": [
    {
     "name": "stdout",
     "output_type": "stream",
     "text": [
      "starting Gridsearch\n",
      "Fitting 5 folds for each of 28 candidates, totalling 140 fits\n"
     ]
    },
    {
     "name": "stderr",
     "output_type": "stream",
     "text": [
      "[Parallel(n_jobs=1)]: Done 140 out of 140 | elapsed:  3.8min finished\n"
     ]
    },
    {
     "name": "stdout",
     "output_type": "stream",
     "text": [
      "finished Gridsearch\n",
      "0.6047619047619047\n",
      "Fitting 5 folds for each of 1 candidates, totalling 5 fits\n",
      "finished Gridsearch\n",
      "0.4869047619047619\n",
      "Fitting 5 folds for each of 12 candidates, totalling 60 fits\n"
     ]
    },
    {
     "name": "stderr",
     "output_type": "stream",
     "text": [
      "[Parallel(n_jobs=1)]: Done   5 out of   5 | elapsed:    0.0s finished\n",
      "[Parallel(n_jobs=1)]: Done  60 out of  60 | elapsed:    4.9s finished\n"
     ]
    },
    {
     "name": "stdout",
     "output_type": "stream",
     "text": [
      "finished Gridsearch\n",
      "0.5726190476190476\n",
      "Fitting 5 folds for each of 34 candidates, totalling 170 fits\n"
     ]
    }
   ],
   "source": [
    "modelo =  grid_search()\n",
    "print(modelo.best_params_)\n",
    "print(modelo.best_estimator_)\n",
    "y_hat = modelo.predict(np.matrix(test))\n"
   ]
  },
  {
   "cell_type": "code",
   "execution_count": null,
   "metadata": {},
   "outputs": [],
   "source": [
    "from sklearn.metrics import classification_report, confusion_matrix\n",
    "print(classification_report(y_test, y_hat))\n",
    "print(confusion_matrix(y_test, y_hat))\n",
    "\n"
   ]
  },
  {
   "cell_type": "code",
   "execution_count": null,
   "metadata": {},
   "outputs": [],
   "source": [
    "tn, fp, fn, tp = confusion_matrix(y_test, y_hat).ravel() \n",
    "tn, fp, fn, tp\n"
   ]
  },
  {
   "cell_type": "code",
   "execution_count": null,
   "metadata": {},
   "outputs": [],
   "source": [
    "print(\"--- %s seconds ---\" % (time.time() - start_time))\n"
   ]
  },
  {
   "cell_type": "code",
   "execution_count": null,
   "metadata": {},
   "outputs": [],
   "source": [
    "modelo.best_estimator_"
   ]
  },
  {
   "cell_type": "code",
   "execution_count": null,
   "metadata": {},
   "outputs": [],
   "source": []
  }
 ],
 "metadata": {
  "kernelspec": {
   "display_name": "Python 3",
   "language": "python",
   "name": "python3"
  },
  "language_info": {
   "codemirror_mode": {
    "name": "ipython",
    "version": 3
   },
   "file_extension": ".py",
   "mimetype": "text/x-python",
   "name": "python",
   "nbconvert_exporter": "python",
   "pygments_lexer": "ipython3",
   "version": "3.6.5"
  }
 },
 "nbformat": 4,
 "nbformat_minor": 2
}
