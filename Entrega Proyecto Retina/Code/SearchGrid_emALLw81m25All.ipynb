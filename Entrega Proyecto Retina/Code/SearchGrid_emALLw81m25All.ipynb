{
 "cells": [
  {
   "cell_type": "code",
   "execution_count": 1,
   "metadata": {},
   "outputs": [
    {
     "name": "stderr",
     "output_type": "stream",
     "text": [
      "C:\\ProgramData\\Anaconda3\\lib\\site-packages\\sklearn\\cross_validation.py:41: DeprecationWarning: This module was deprecated in version 0.18 in favor of the model_selection module into which all the refactored classes and functions are moved. Also note that the interface of the new CV iterators are different from that of this module. This module will be removed in 0.20.\n",
      "  \"This module will be removed in 0.20.\", DeprecationWarning)\n",
      "C:\\ProgramData\\Anaconda3\\lib\\site-packages\\sklearn\\grid_search.py:42: DeprecationWarning: This module was deprecated in version 0.18 in favor of the model_selection module into which all the refactored classes and functions are moved. This module will be removed in 0.20.\n",
      "  DeprecationWarning)\n"
     ]
    },
    {
     "data": {
      "text/plain": [
       "249"
      ]
     },
     "execution_count": 1,
     "metadata": {},
     "output_type": "execute_result"
    }
   ],
   "source": [
    "import time\n",
    "start_time = time.time()\n",
    "import numpy as np\n",
    "import pandas as pd\n",
    "import matplotlib.pyplot as plt\n",
    "from sklearn.model_selection import train_test_split\n",
    "from sklearn.neighbors import KNeighborsClassifier\n",
    "from sklearn.svm import SVC\n",
    "from sklearn.ensemble import RandomForestClassifier\n",
    "\n",
    "\n",
    "from sklearn.linear_model import LogisticRegression\n",
    "from sklearn.pipeline import Pipeline\n",
    "from sklearn.grid_search import GridSearchCV\n",
    "\n",
    "################\n",
    "m = 8\n",
    "nombres = ['RGB.Laplaciano'+str(i+1) for i in range(m)]+['RGB.Sobelx'+str(i+1) for i in range(m)]+['RGB.Sobely'+str(i+1) for i in range(m)]+['RGB.Canny'+str(i+1) for i in range(m)]+['R'  +str(i+1) for i in range(m)]+['G' +str(i+1) for i in range(m)]+['B' +str(i+1) for i in range(m)]+['R.Espacial'+str(i+1) for i in range(m)]+['G.Espacial'+str(i+1) for i in range(m)]+['B.Espacial'+str(i+1) for i in range(m)]+['HSV.Laplaciano'+str(i+1) for i in range(m)]+['HSV.Sobelx'+str(i+1) for i in range(m)]+['HSV.Sobely'+str(i+1) for i in range(m)]+['HSV.Canny'+str(i+1) for i in range(m)]+['H'+str(i+1) for i in range(m)]+['S'+str(i+1) for i in range(m)]+['V'+str(i+1) for i in range(m)]+['H.Espacial'+str(i+1) for i in range(m)]+['S.Espacial' +str(i+1) for i in range(m)]+['V.Espacial' +str(i+1) for i in range(m)]+['Eigen' +str(i+1) for i in range(9)] +['BGR.Laplaciano'+str(i+1) for i in range(m)]+['BGR.Sobelx'+str(i+1) for i in range(m)]+['BGR.Sobely'+str(i+1) for i in range(m)]+['BGR.Canny'+str(i+1) for i in range(m)]+['PC1.'+str(i+1) for i in range(m)]+['PC2.'+str(i+1) for i in range(m)]+['PC3.'+str(i+1) for i in range(m)]+['PC1.Espacial'+str(i+1) for i in range(m)]+['PC2.Espacial'+str(i+1) for i in range(m)]+['PC3.Espacial'+str(i+1) for i in range(m)]\n",
    "y = pd.read_csv('C:\\\\Users\\\\fou-f\\\\Desktop\\\\CD2EDUARDOFOO\\\\Retina\\\\Code\\\\metadata.csv')\n",
    "datos = pd.read_csv('C:\\\\Users\\\\fou-f\\\\Desktop\\\\CD2EDUARDOFOO\\\\Retina\\\\Resultados\\\\emALLw81m25All.csv')\n",
    "y = np.array(y['y'])\n",
    "####################\n",
    "len(nombres)"
   ]
  },
  {
   "cell_type": "code",
   "execution_count": 2,
   "metadata": {},
   "outputs": [],
   "source": [
    "datos.columns =nombres\n",
    "train, test, y_train, y_test = train_test_split(datos, y, test_size=0.3, random_state=0) # es importante este detalle para que todos tengamos el mismo resultado\n",
    "\n"
   ]
  },
  {
   "cell_type": "code",
   "execution_count": 8,
   "metadata": {},
   "outputs": [],
   "source": [
    "\n",
    "def grid_search():\n",
    "    pipeline1  = Pipeline([ ('classifier', RandomForestClassifier(random_state = 42))])\n",
    "    #pipeline2 = Pipeline(( ('clf', KNeighborsClassifier()), ))\n",
    "    #pipeline3 = Pipeline(( ('clf', SVC()), ))\n",
    "    pipeline4 = Pipeline((('logistic', LogisticRegression()),))\n",
    "    parameters1 = {\n",
    "    'classifier__n_estimators': [i+1 for i in range(round(len(train))) if i % 40 == 1] }\n",
    "\n",
    "    #parameters2 = {\n",
    "    #'clf__n_neighbors': [ i+1 for i in range(round(len(train)**.5)) if i% 30 == 1]}\n",
    "\n",
    "    #parameters3 = {\n",
    "    #'clf__C': [0.01, 0.1, .4, 9.0],\n",
    "    #'clf__kernel': ['rbf'],\n",
    "    #'clf__gamma': [0.01, 0.1, 1.0]\n",
    "    #}\n",
    "    parameters4= { 'logistic__C' :  [ np.exp(i) for i in  range(-4, 100, 10) ]}\n",
    "\n",
    "    #pars = [parameters1, parameters2, parameters3, parameters4]\n",
    "    #pips = [pipeline1, pipeline2, pipeline3, pipeline4]\n",
    "    pars = [parameters1, parameters4]\n",
    "    pips = [pipeline1, pipeline4]\n",
    "\n",
    "\n",
    "    print (\"starting Gridsearch\")\n",
    "    for i in range(len(pars)):\n",
    "        gs = GridSearchCV(pips[i], pars[i], verbose=1, refit=True, cv=5)\n",
    "        gs = gs.fit(np.matrix(train), y_train)\n",
    "        print (\"finished Gridsearch\")\n",
    "        print (gs.best_score_)\n",
    "    return(gs)\n",
    "    \n"
   ]
  },
  {
   "cell_type": "code",
   "execution_count": 9,
   "metadata": {},
   "outputs": [
    {
     "name": "stdout",
     "output_type": "stream",
     "text": [
      "starting Gridsearch\n",
      "Fitting 5 folds for each of 21 candidates, totalling 105 fits\n"
     ]
    },
    {
     "name": "stderr",
     "output_type": "stream",
     "text": [
      "[Parallel(n_jobs=1)]: Done 105 out of 105 | elapsed:  3.0min finished\n"
     ]
    },
    {
     "name": "stdout",
     "output_type": "stream",
     "text": [
      "finished Gridsearch\n",
      "0.6071428571428571\n",
      "Fitting 5 folds for each of 11 candidates, totalling 55 fits\n",
      "finished Gridsearch\n",
      "0.5785714285714286\n",
      "{'logistic__C': 0.01831563888873418}\n",
      "Pipeline(memory=None,\n",
      "     steps=[('logistic', LogisticRegression(C=0.01831563888873418, class_weight=None, dual=False,\n",
      "          fit_intercept=True, intercept_scaling=1, max_iter=100,\n",
      "          multi_class='ovr', n_jobs=1, penalty='l2', random_state=None,\n",
      "          solver='liblinear', tol=0.0001, verbose=0, warm_start=False))])\n"
     ]
    },
    {
     "name": "stderr",
     "output_type": "stream",
     "text": [
      "[Parallel(n_jobs=1)]: Done  55 out of  55 | elapsed:  1.4min finished\n"
     ]
    }
   ],
   "source": [
    "modelo =  grid_search()\n",
    "print(modelo.best_params_)\n",
    "print(modelo.best_estimator_)\n",
    "y_hat = modelo.predict(np.matrix(test))\n"
   ]
  },
  {
   "cell_type": "code",
   "execution_count": 10,
   "metadata": {},
   "outputs": [
    {
     "name": "stdout",
     "output_type": "stream",
     "text": [
      "             precision    recall  f1-score   support\n",
      "\n",
      "          0       0.54      0.46      0.50       169\n",
      "          1       0.58      0.65      0.61       191\n",
      "\n",
      "avg / total       0.56      0.56      0.56       360\n",
      "\n",
      "[[ 78  91]\n",
      " [ 67 124]]\n"
     ]
    }
   ],
   "source": [
    "from sklearn.metrics import classification_report, confusion_matrix\n",
    "print(classification_report(y_test, y_hat))\n",
    "print(confusion_matrix(y_test, y_hat))\n",
    "\n"
   ]
  },
  {
   "cell_type": "code",
   "execution_count": 11,
   "metadata": {},
   "outputs": [
    {
     "data": {
      "text/plain": [
       "(78, 91, 67, 124)"
      ]
     },
     "execution_count": 11,
     "metadata": {},
     "output_type": "execute_result"
    }
   ],
   "source": [
    "tn, fp, fn, tp = confusion_matrix(y_test, y_hat).ravel() \n",
    "tn, fp, fn, tp\n"
   ]
  },
  {
   "cell_type": "code",
   "execution_count": 12,
   "metadata": {},
   "outputs": [
    {
     "name": "stdout",
     "output_type": "stream",
     "text": [
      "--- 598.943009853363 seconds ---\n"
     ]
    }
   ],
   "source": [
    "print(\"--- %s seconds ---\" % (time.time() - start_time))\n"
   ]
  },
  {
   "cell_type": "code",
   "execution_count": 13,
   "metadata": {},
   "outputs": [
    {
     "data": {
      "text/plain": [
       "Pipeline(memory=None,\n",
       "     steps=[('logistic', LogisticRegression(C=0.01831563888873418, class_weight=None, dual=False,\n",
       "          fit_intercept=True, intercept_scaling=1, max_iter=100,\n",
       "          multi_class='ovr', n_jobs=1, penalty='l2', random_state=None,\n",
       "          solver='liblinear', tol=0.0001, verbose=0, warm_start=False))])"
      ]
     },
     "execution_count": 13,
     "metadata": {},
     "output_type": "execute_result"
    }
   ],
   "source": [
    "modelo.best_estimator_"
   ]
  },
  {
   "cell_type": "code",
   "execution_count": null,
   "metadata": {},
   "outputs": [],
   "source": []
  }
 ],
 "metadata": {
  "kernelspec": {
   "display_name": "Python 3",
   "language": "python",
   "name": "python3"
  },
  "language_info": {
   "codemirror_mode": {
    "name": "ipython",
    "version": 3
   },
   "file_extension": ".py",
   "mimetype": "text/x-python",
   "name": "python",
   "nbconvert_exporter": "python",
   "pygments_lexer": "ipython3",
   "version": "3.6.5"
  }
 },
 "nbformat": 4,
 "nbformat_minor": 2
}
