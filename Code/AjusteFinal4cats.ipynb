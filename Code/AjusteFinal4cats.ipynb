{
 "cells": [
  {
   "cell_type": "code",
   "execution_count": 1,
   "metadata": {},
   "outputs": [
    {
     "name": "stderr",
     "output_type": "stream",
     "text": [
      "/home/fou/anaconda3/lib/python3.7/site-packages/sklearn/ensemble/weight_boosting.py:29: DeprecationWarning: numpy.core.umath_tests is an internal NumPy module and should not be imported. It will be removed in a future NumPy release.\n",
      "  from numpy.core.umath_tests import inner1d\n",
      "/home/fou/anaconda3/lib/python3.7/site-packages/sklearn/cross_validation.py:41: DeprecationWarning: This module was deprecated in version 0.18 in favor of the model_selection module into which all the refactored classes and functions are moved. Also note that the interface of the new CV iterators are different from that of this module. This module will be removed in 0.20.\n",
      "  \"This module will be removed in 0.20.\", DeprecationWarning)\n",
      "/home/fou/anaconda3/lib/python3.7/site-packages/sklearn/grid_search.py:42: DeprecationWarning: This module was deprecated in version 0.18 in favor of the model_selection module into which all the refactored classes and functions are moved. This module will be removed in 0.20.\n",
      "  DeprecationWarning)\n"
     ]
    }
   ],
   "source": [
    "# paquetes necesarios\n",
    "%matplotlib inline\n",
    "import time\n",
    "start_time = time.time()\n",
    "import matplotlib.pyplot as plt\n",
    "import numpy as np # implementacion vectorizadas de listas\n",
    "import pandas as pd #manedo de datasets\n",
    "from sklearn.model_selection import train_test_split #division aleatoria\n",
    "from sklearn.neighbors import KNeighborsClassifier # metodo knn\n",
    "from sklearn.svm import SVC # metodo SVM\n",
    "from sklearn.ensemble import RandomForestClassifier #metodo Random Forest\n",
    "from sklearn.linear_model import LogisticRegression # modelo de regresion losgistica regularizada\n",
    "from sklearn.pipeline import Pipeline\n",
    "from sklearn.grid_search import GridSearchCV # implementacion de cross validation "
   ]
  },
  {
   "cell_type": "markdown",
   "metadata": {},
   "source": [
    "El archivo <code> meta4momentos.csv </code> son las features de nuestro proceso ejecutado en Mathematica"
   ]
  },
  {
   "cell_type": "code",
   "execution_count": 2,
   "metadata": {},
   "outputs": [],
   "source": [
    "datos = pd.read_csv('/home/fou/Desktop/Magia/meta4momentos.csv', header=None)\n",
    "datos.columns = [ 'X' + str(i) for i in datos.columns] \n",
    "del datos['X0'] \n",
    "y = datos['X1'] # Respaldamos nuestra variable de interes\n",
    "del datos['X1']\n",
    "del datos['X2']"
   ]
  },
  {
   "cell_type": "markdown",
   "metadata": {},
   "source": [
    "En todos nuestros experimentos manejamos el 70% de nuestros datos como conjunto de Train"
   ]
  },
  {
   "cell_type": "code",
   "execution_count": 3,
   "metadata": {},
   "outputs": [],
   "source": [
    "train, test, y_train, y_test = train_test_split(datos, y, test_size=0.3, random_state=0) # es importante este detalle para que todos tengamos el mismo resultado\n"
   ]
  },
  {
   "cell_type": "markdown",
   "metadata": {},
   "source": [
    "Construimos una función que realice una busqueda por grid y cross validation sobre los hiperparámetros de nuestros claasificadores."
   ]
  },
  {
   "cell_type": "code",
   "execution_count": 4,
   "metadata": {},
   "outputs": [],
   "source": [
    "def grid_search():\n",
    "    # funcion para encontrar los mejores hiperparametros sobre un grid y usando cross validation, paralizada\n",
    "    # Entradas: ninguna\n",
    "    # Salidas: objeto con los estadisticos de la busqueda, incluye el mejor modelo asi como sus parametros\n",
    "        # inicializacion de los clasificadores\n",
    "    pipeline1  = Pipeline([ ('classifier', RandomForestClassifier(random_state = 42))])\n",
    "    pipeline2 = Pipeline(( ('clf', KNeighborsClassifier()), ))\n",
    "    pipeline3 = Pipeline(( ('clf', SVC()), ))\n",
    "    pipeline4 = Pipeline((('logistic', LogisticRegression()),))\n",
    "        # definicion dle espacio de busqueda de los parametros\n",
    "    parameters1 = { 'classifier__n_estimators': [i+1 for i in range(round(len(train))) if i % 10 == 1] }\n",
    "    parameters2 = {'clf__n_neighbors': [ i+1 for i in range(round(len(train)**.5)) if i % 2 == 1 ]}\n",
    "    parameters3 = { 'clf__C': [0.01, 0.1, .3,  .7, 9.0], 'clf__kernel': ['rbf'], 'clf__gamma': [0.01, 0.1, .3,  .7, 9.0]}\n",
    "    parameters4= { 'logistic__C' : [ np.exp(i) for i in  range(-6, 25) ] }\n",
    "    pars = [parameters1, parameters2, parameters3, parameters4]\n",
    "    pips = [pipeline1, pipeline2, pipeline3, pipeline4]\n",
    "    print (\"starting Gridsearch\")\n",
    "        # se realiza la busqueda exhaustiva validando con cv\n",
    "    for i in range(len(pars)):\n",
    "        gs = GridSearchCV(pips[i], pars[i], verbose=1, refit=True, cv=20, n_jobs=-1)\n",
    "        gs = gs.fit(np.matrix(train), y_train)\n",
    "        print (\"finished Gridsearch\")\n",
    "        print (gs.best_score_)\n",
    "    return(gs)"
   ]
  },
  {
   "cell_type": "code",
   "execution_count": 5,
   "metadata": {},
   "outputs": [
    {
     "name": "stdout",
     "output_type": "stream",
     "text": [
      "starting Gridsearch\n",
      "Fitting 20 folds for each of 84 candidates, totalling 1680 fits\n"
     ]
    },
    {
     "name": "stderr",
     "output_type": "stream",
     "text": [
      "[Parallel(n_jobs=-1)]: Done 296 tasks      | elapsed:   24.8s\n",
      "[Parallel(n_jobs=-1)]: Done 629 tasks      | elapsed:  1.4min\n",
      "[Parallel(n_jobs=-1)]: Done 879 tasks      | elapsed:  2.6min\n",
      "[Parallel(n_jobs=-1)]: Done 1229 tasks      | elapsed:  5.1min\n",
      "[Parallel(n_jobs=-1)]: Done 1680 out of 1680 | elapsed:  9.5min finished\n"
     ]
    },
    {
     "name": "stdout",
     "output_type": "stream",
     "text": [
      "finished Gridsearch\n",
      "0.544047619047619\n",
      "Fitting 20 folds for each of 14 candidates, totalling 280 fits\n",
      "finished Gridsearch\n",
      "0.5095238095238095\n",
      "Fitting 20 folds for each of 25 candidates, totalling 500 fits\n"
     ]
    },
    {
     "name": "stderr",
     "output_type": "stream",
     "text": [
      "[Parallel(n_jobs=-1)]: Done 280 out of 280 | elapsed:    0.4s finished\n",
      "[Parallel(n_jobs=-1)]: Done  52 tasks      | elapsed:    1.0s\n",
      "[Parallel(n_jobs=-1)]: Done 352 tasks      | elapsed:    5.8s\n"
     ]
    },
    {
     "name": "stdout",
     "output_type": "stream",
     "text": [
      "finished Gridsearch\n",
      "0.525\n",
      "Fitting 20 folds for each of 31 candidates, totalling 620 fits\n"
     ]
    },
    {
     "name": "stderr",
     "output_type": "stream",
     "text": [
      "[Parallel(n_jobs=-1)]: Done 500 out of 500 | elapsed:    8.5s finished\n",
      "[Parallel(n_jobs=-1)]: Done 124 tasks      | elapsed:    1.6s\n",
      "[Parallel(n_jobs=-1)]: Done 438 tasks      | elapsed:   43.7s\n",
      "[Parallel(n_jobs=-1)]: Done 620 out of 620 | elapsed:  2.0min finished\n"
     ]
    },
    {
     "name": "stdout",
     "output_type": "stream",
     "text": [
      "finished Gridsearch\n",
      "0.4988095238095238\n"
     ]
    }
   ],
   "source": [
    "modelo =  grid_search() #ejecutamos la busqueda\n"
   ]
  },
  {
   "cell_type": "code",
   "execution_count": 6,
   "metadata": {},
   "outputs": [
    {
     "name": "stdout",
     "output_type": "stream",
     "text": [
      "Pipeline(memory=None,\n",
      "     steps=[('logistic', LogisticRegression(C=59874.14171519782, class_weight=None, dual=False,\n",
      "          fit_intercept=True, intercept_scaling=1, max_iter=100,\n",
      "          multi_class='ovr', n_jobs=1, penalty='l2', random_state=None,\n",
      "          solver='liblinear', tol=0.0001, verbose=0, warm_start=False))])\n"
     ]
    }
   ],
   "source": [
    "print(modelo.best_estimator_)\n",
    "y_hat = modelo.predict(np.matrix(test))"
   ]
  },
  {
   "cell_type": "markdown",
   "metadata": {},
   "source": [
    "Calculo de la matriz de confusión"
   ]
  },
  {
   "cell_type": "code",
   "execution_count": 7,
   "metadata": {},
   "outputs": [
    {
     "name": "stdout",
     "output_type": "stream",
     "text": [
      "             precision    recall  f1-score   support\n",
      "\n",
      "          0       0.57      0.87      0.69       169\n",
      "          1       0.33      0.02      0.04        48\n",
      "          2       0.41      0.17      0.24        81\n",
      "          3       0.42      0.44      0.43        62\n",
      "\n",
      "avg / total       0.48      0.53      0.46       360\n",
      "\n",
      "[[147   0   7  15]\n",
      " [ 31   1   8   8]\n",
      " [ 50   2  14  15]\n",
      " [ 30   0   5  27]]\n"
     ]
    }
   ],
   "source": [
    "from sklearn.metrics import classification_report, confusion_matrix\n",
    "print(classification_report(y_test, y_hat)) # reporte con la presicion por clase\n",
    "print(confusion_matrix(y_test, y_hat))"
   ]
  },
  {
   "cell_type": "code",
   "execution_count": 8,
   "metadata": {},
   "outputs": [
    {
     "data": {
      "text/plain": [
       "array([147,   0,   7,  15,  31,   1,   8,   8,  50,   2,  14,  15,  30,\n",
       "         0,   5,  27])"
      ]
     },
     "execution_count": 8,
     "metadata": {},
     "output_type": "execute_result"
    }
   ],
   "source": [
    "confusion_matrix(y_test, y_hat).ravel() "
   ]
  },
  {
   "cell_type": "code",
   "execution_count": 9,
   "metadata": {},
   "outputs": [
    {
     "name": "stdout",
     "output_type": "stream",
     "text": [
      "--- 702.1648151874542 seconds ---\n"
     ]
    }
   ],
   "source": [
    "print(\"--- %s seconds ---\" % (time.time() - start_time))\n"
   ]
  },
  {
   "cell_type": "code",
   "execution_count": 10,
   "metadata": {},
   "outputs": [
    {
     "data": {
      "text/plain": [
       "Pipeline(memory=None,\n",
       "     steps=[('logistic', LogisticRegression(C=59874.14171519782, class_weight=None, dual=False,\n",
       "          fit_intercept=True, intercept_scaling=1, max_iter=100,\n",
       "          multi_class='ovr', n_jobs=1, penalty='l2', random_state=None,\n",
       "          solver='liblinear', tol=0.0001, verbose=0, warm_start=False))])"
      ]
     },
     "execution_count": 10,
     "metadata": {},
     "output_type": "execute_result"
    }
   ],
   "source": [
    "modelo.best_estimator_ # el mejor clasificador resulto ser la regresión logistica"
   ]
  },
  {
   "cell_type": "code",
   "execution_count": 11,
   "metadata": {},
   "outputs": [
    {
     "data": {
      "text/plain": [
       "59874.14171519782"
      ]
     },
     "execution_count": 11,
     "metadata": {},
     "output_type": "execute_result"
    }
   ],
   "source": [
    "hiperp = modelo.best_params_['logistic__C']\n",
    "hiperp"
   ]
  },
  {
   "cell_type": "code",
   "execution_count": 12,
   "metadata": {},
   "outputs": [
    {
     "data": {
      "text/plain": [
       "LogisticRegression(C=59874.14171519782, class_weight=None, dual=False,\n",
       "          fit_intercept=True, intercept_scaling=1, max_iter=100,\n",
       "          multi_class='ovr', n_jobs=1, penalty='l2', random_state=None,\n",
       "          solver='liblinear', tol=0.0001, verbose=0, warm_start=False)"
      ]
     },
     "execution_count": 12,
     "metadata": {},
     "output_type": "execute_result"
    }
   ],
   "source": [
    "final = LogisticRegression(C=hiperp) #entranamos el modelo con todos los datos para dar interpretación de las features\n",
    "final.fit(datos, y)\n"
   ]
  },
  {
   "cell_type": "code",
   "execution_count": 13,
   "metadata": {},
   "outputs": [
    {
     "data": {
      "text/plain": [
       "Text(0.5,1,'Categoria 0, valor del coeficiente estimado')"
      ]
     },
     "execution_count": 13,
     "metadata": {},
     "output_type": "execute_result"
    },
    {
     "data": {
      "image/png": "[encoded data removed]",
      "text/plain": [
       "<Figure size 432x288 with 1 Axes>"
      ]
     },
     "metadata": {
      "needs_background": "light"
     },
     "output_type": "display_data"
    }
   ],
   "source": [
    "plt.scatter( [i for i in range(83)] ,  final.coef_[0])\n",
    "plt.title('Categoria 0, valor del coeficiente estimado' )"
   ]
  },
  {
   "cell_type": "code",
   "execution_count": 14,
   "metadata": {},
   "outputs": [
    {
     "data": {
      "text/plain": [
       "Text(0.5,1,'Categoria 1,  valor del coeficiente estimado')"
      ]
     },
     "execution_count": 14,
     "metadata": {},
     "output_type": "execute_result"
    },
    {
     "data": {
      "image/png": "[encoded data removed]",
      "text/plain": [
       "<Figure size 432x288 with 1 Axes>"
      ]
     },
     "metadata": {
      "needs_background": "light"
     },
     "output_type": "display_data"
    }
   ],
   "source": [
    "plt.scatter( [i for i in range(83)] ,  final.coef_[1])\n",
    "plt.title('Categoria 1,  valor del coeficiente estimado' )"
   ]
  },
  {
   "cell_type": "code",
   "execution_count": 15,
   "metadata": {},
   "outputs": [
    {
     "data": {
      "text/plain": [
       "Text(0.5,1,'Categoria 2,  valor del coeficiente estimado')"
      ]
     },
     "execution_count": 15,
     "metadata": {},
     "output_type": "execute_result"
    },
    {
     "data": {
      "image/png": "[encoded data removed]",
      "text/plain": [
       "<Figure size 432x288 with 1 Axes>"
      ]
     },
     "metadata": {
      "needs_background": "light"
     },
     "output_type": "display_data"
    }
   ],
   "source": [
    "plt.scatter( [i for i in range(83)] ,  final.coef_[2])\n",
    "plt.title('Categoria 2,  valor del coeficiente estimado' )"
   ]
  },
  {
   "cell_type": "code",
   "execution_count": 16,
   "metadata": {},
   "outputs": [
    {
     "data": {
      "text/plain": [
       "Text(0.5,1,'Categoria 3,  valor del coeficiente estimado')"
      ]
     },
     "execution_count": 16,
     "metadata": {},
     "output_type": "execute_result"
    },
    {
     "data": {
      "image/png": "[encoded data removed]",
      "text/plain": [
       "<Figure size 432x288 with 1 Axes>"
      ]
     },
     "metadata": {
      "needs_background": "light"
     },
     "output_type": "display_data"
    }
   ],
   "source": [
    "plt.scatter( [i for i in range(83)] ,  final.coef_[3])\n",
    "plt.title('Categoria 3,  valor del coeficiente estimado'  )"
   ]
  },
  {
   "cell_type": "code",
   "execution_count": null,
   "metadata": {},
   "outputs": [],
   "source": []
  },
  {
   "cell_type": "code",
   "execution_count": null,
   "metadata": {},
   "outputs": [],
   "source": []
  }
 ],
 "metadata": {
  "kernelspec": {
   "display_name": "Python 3",
   "language": "python",
   "name": "python3"
  },
  "language_info": {
   "codemirror_mode": {
    "name": "ipython",
    "version": 3
   },
   "file_extension": ".py",
   "mimetype": "text/x-python",
   "name": "python",
   "nbconvert_exporter": "python",
   "pygments_lexer": "ipython3",
   "version": "3.7.0"
  }
 },
 "nbformat": 4,
 "nbformat_minor": 2
}
