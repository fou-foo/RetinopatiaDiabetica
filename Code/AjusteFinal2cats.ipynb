{
 "cells": [
  {
   "cell_type": "code",
   "execution_count": 1,
   "metadata": {},
   "outputs": [
    {
     "name": "stderr",
     "output_type": "stream",
     "text": [
      "/home/fou/anaconda3/lib/python3.7/site-packages/sklearn/ensemble/weight_boosting.py:29: DeprecationWarning: numpy.core.umath_tests is an internal NumPy module and should not be imported. It will be removed in a future NumPy release.\n",
      "  from numpy.core.umath_tests import inner1d\n",
      "/home/fou/anaconda3/lib/python3.7/site-packages/sklearn/cross_validation.py:41: DeprecationWarning: This module was deprecated in version 0.18 in favor of the model_selection module into which all the refactored classes and functions are moved. Also note that the interface of the new CV iterators are different from that of this module. This module will be removed in 0.20.\n",
      "  \"This module will be removed in 0.20.\", DeprecationWarning)\n",
      "/home/fou/anaconda3/lib/python3.7/site-packages/sklearn/grid_search.py:42: DeprecationWarning: This module was deprecated in version 0.18 in favor of the model_selection module into which all the refactored classes and functions are moved. This module will be removed in 0.20.\n",
      "  DeprecationWarning)\n"
     ]
    }
   ],
   "source": [
    "# paquetes necesarios\n",
    "%matplotlib inline\n",
    "import time\n",
    "start_time = time.time()\n",
    "import matplotlib.pyplot as plt\n",
    "import numpy as np # implementacion vectorizadas de listas\n",
    "import pandas as pd #manedo de datasets\n",
    "from sklearn.model_selection import train_test_split #division aleatoria\n",
    "from sklearn.neighbors import KNeighborsClassifier # metodo knn\n",
    "from sklearn.svm import SVC # metodo SVM\n",
    "from sklearn.ensemble import RandomForestClassifier #metodo Random Forest\n",
    "from sklearn.linear_model import LogisticRegression # modelo de regresion losgistica regularizada\n",
    "from sklearn.pipeline import Pipeline\n",
    "from sklearn.grid_search import GridSearchCV # implementacion de cross validation "
   ]
  },
  {
   "cell_type": "markdown",
   "metadata": {},
   "source": [
    "El archivo <code> meta4momentos.csv </code> son las features de nuestro proceso ejecutado en Mathematica"
   ]
  },
  {
   "cell_type": "code",
   "execution_count": 2,
   "metadata": {},
   "outputs": [
    {
     "data": {
      "text/plain": [
       "0        True\n",
       "1       False\n",
       "2        True\n",
       "3        True\n",
       "4        True\n",
       "5       False\n",
       "6       False\n",
       "7       False\n",
       "8        True\n",
       "9       False\n",
       "10      False\n",
       "11       True\n",
       "12       True\n",
       "13      False\n",
       "14      False\n",
       "15      False\n",
       "16       True\n",
       "17       True\n",
       "18       True\n",
       "19       True\n",
       "20      False\n",
       "21       True\n",
       "22       True\n",
       "23       True\n",
       "24       True\n",
       "25       True\n",
       "26       True\n",
       "27       True\n",
       "28       True\n",
       "29       True\n",
       "        ...  \n",
       "1170     True\n",
       "1171     True\n",
       "1172     True\n",
       "1173     True\n",
       "1174     True\n",
       "1175     True\n",
       "1176     True\n",
       "1177     True\n",
       "1178     True\n",
       "1179     True\n",
       "1180     True\n",
       "1181     True\n",
       "1182     True\n",
       "1183     True\n",
       "1184     True\n",
       "1185     True\n",
       "1186     True\n",
       "1187     True\n",
       "1188     True\n",
       "1189     True\n",
       "1190     True\n",
       "1191     True\n",
       "1192     True\n",
       "1193     True\n",
       "1194     True\n",
       "1195     True\n",
       "1196     True\n",
       "1197     True\n",
       "1198     True\n",
       "1199     True\n",
       "Name: X1, Length: 1200, dtype: bool"
      ]
     },
     "execution_count": 2,
     "metadata": {},
     "output_type": "execute_result"
    }
   ],
   "source": [
    "datos = pd.read_csv('/home/fou/Desktop/Magia/meta4momentos.csv', header=None)\n",
    "datos.columns = [ 'X' + str(i) for i in datos.columns] \n",
    "del datos['X0'] \n",
    "y = datos['X1'] # Respaldamos nuestra variable de interes\n",
    "y = y > 0\n",
    "del datos['X1']\n",
    "del datos['X2']\n",
    "y"
   ]
  },
  {
   "cell_type": "markdown",
   "metadata": {},
   "source": [
    "En todos nuestros experimentos manejamos el 70% de nuestros datos como conjunto de Train"
   ]
  },
  {
   "cell_type": "code",
   "execution_count": 3,
   "metadata": {},
   "outputs": [],
   "source": [
    "train, test, y_train, y_test = train_test_split(datos, y, test_size=0.3, random_state=0) # es importante este detalle para que todos tengamos el mismo resultado\n"
   ]
  },
  {
   "cell_type": "markdown",
   "metadata": {},
   "source": [
    "Construimos una función que realice una busqueda por grid y cross validation sobre los hiperparámetros de nuestros claasificadores."
   ]
  },
  {
   "cell_type": "code",
   "execution_count": 4,
   "metadata": {},
   "outputs": [],
   "source": [
    "def grid_search():\n",
    "    # funcion para encontrar los mejores hiperparametros sobre un grid y usando cross validation, paralizada\n",
    "    # Entradas: ninguna\n",
    "    # Salidas: objeto con los estadisticos de la busqueda, incluye el mejor modelo asi como sus parametros\n",
    "        # inicializacion de los clasificadores\n",
    "    pipeline1  = Pipeline([ ('classifier', RandomForestClassifier(random_state = 42))])\n",
    "    pipeline2 = Pipeline(( ('clf', KNeighborsClassifier()), ))\n",
    "    pipeline3 = Pipeline(( ('clf', SVC()), ))\n",
    "    pipeline4 = Pipeline((('logistic', LogisticRegression()),))\n",
    "        # definicion dle espacio de busqueda de los parametros\n",
    "    parameters1 = { 'classifier__n_estimators': [i+1 for i in range(round(len(train))) if i % 10 == 1] }\n",
    "    parameters2 = {'clf__n_neighbors': [ i+1 for i in range(round(len(train)**.5)) if i % 2 == 1 ]}\n",
    "    parameters3 = { 'clf__C': [0.01, 0.1, .3,  .7, 9.0], 'clf__kernel': ['rbf'], 'clf__gamma': [0.01, 0.1, 9.0]}\n",
    "    parameters4= { 'logistic__C' :  [ np.exp(i) for i in  range(-6, 25) ]}\n",
    "    pars = [parameters1, parameters2, parameters3, parameters4]\n",
    "    pips = [pipeline1, pipeline2, pipeline3, pipeline4]\n",
    "    print (\"starting Gridsearch\")\n",
    "        # se realiza la busqueda exhaustiva validando con cv\n",
    "    for i in range(len(pars)):\n",
    "        gs = GridSearchCV(pips[i], pars[i], verbose=1, refit=True, cv=50, n_jobs=-1)\n",
    "        gs = gs.fit(np.matrix(train), y_train)\n",
    "        print (\"finished Gridsearch\")\n",
    "        print (gs.best_score_)\n",
    "    return(gs)"
   ]
  },
  {
   "cell_type": "code",
   "execution_count": 5,
   "metadata": {},
   "outputs": [
    {
     "name": "stdout",
     "output_type": "stream",
     "text": [
      "starting Gridsearch\n",
      "Fitting 50 folds for each of 84 candidates, totalling 4200 fits\n"
     ]
    },
    {
     "name": "stderr",
     "output_type": "stream",
     "text": [
      "[Parallel(n_jobs=-1)]: Done 304 tasks      | elapsed:    7.8s\n",
      "[Parallel(n_jobs=-1)]: Done 716 tasks      | elapsed:   34.4s\n",
      "[Parallel(n_jobs=-1)]: Done 966 tasks      | elapsed:  1.1min\n",
      "[Parallel(n_jobs=-1)]: Done 1316 tasks      | elapsed:  2.0min\n",
      "[Parallel(n_jobs=-1)]: Done 1766 tasks      | elapsed:  3.7min\n",
      "[Parallel(n_jobs=-1)]: Done 2316 tasks      | elapsed:  6.5min\n",
      "[Parallel(n_jobs=-1)]: Done 2966 tasks      | elapsed: 10.7min\n",
      "[Parallel(n_jobs=-1)]: Done 3716 tasks      | elapsed: 16.8min\n",
      "[Parallel(n_jobs=-1)]: Done 4200 out of 4200 | elapsed: 21.4min finished\n"
     ]
    },
    {
     "name": "stdout",
     "output_type": "stream",
     "text": [
      "finished Gridsearch\n",
      "0.6904761904761905\n",
      "Fitting 50 folds for each of 14 candidates, totalling 700 fits\n",
      "finished Gridsearch\n",
      "0.6297619047619047\n",
      "Fitting 50 folds for each of 15 candidates, totalling 750 fits\n"
     ]
    },
    {
     "name": "stderr",
     "output_type": "stream",
     "text": [
      "[Parallel(n_jobs=-1)]: Done 700 out of 700 | elapsed:    0.8s finished\n",
      "[Parallel(n_jobs=-1)]: Done  52 tasks      | elapsed:    0.9s\n",
      "[Parallel(n_jobs=-1)]: Done 352 tasks      | elapsed:    5.0s\n"
     ]
    },
    {
     "name": "stdout",
     "output_type": "stream",
     "text": [
      "finished Gridsearch\n",
      "0.6678571428571428\n",
      "Fitting 50 folds for each of 31 candidates, totalling 1550 fits\n"
     ]
    },
    {
     "name": "stderr",
     "output_type": "stream",
     "text": [
      "[Parallel(n_jobs=-1)]: Done 750 out of 750 | elapsed:   10.3s finished\n",
      "[Parallel(n_jobs=-1)]: Done 176 tasks      | elapsed:    0.7s\n",
      "[Parallel(n_jobs=-1)]: Done 1038 tasks      | elapsed:   25.8s\n",
      "[Parallel(n_jobs=-1)]: Done 1288 tasks      | elapsed:   59.2s\n",
      "[Parallel(n_jobs=-1)]: Done 1550 out of 1550 | elapsed:  1.6min finished\n"
     ]
    },
    {
     "name": "stdout",
     "output_type": "stream",
     "text": [
      "finished Gridsearch\n",
      "0.6547619047619048\n",
      "Pipeline(memory=None,\n",
      "     steps=[('logistic', LogisticRegression(C=442413.3920089205, class_weight=None, dual=False,\n",
      "          fit_intercept=True, intercept_scaling=1, max_iter=100,\n",
      "          multi_class='ovr', n_jobs=1, penalty='l2', random_state=None,\n",
      "          solver='liblinear', tol=0.0001, verbose=0, warm_start=False))])\n"
     ]
    }
   ],
   "source": [
    "modelo =  grid_search() #ejecutamos la busqueda\n",
    "print(modelo.best_estimator_)\n",
    "y_hat = modelo.predict(np.matrix(test))"
   ]
  },
  {
   "cell_type": "markdown",
   "metadata": {},
   "source": [
    "Calculo de la matriz de confusión"
   ]
  },
  {
   "cell_type": "code",
   "execution_count": 6,
   "metadata": {},
   "outputs": [
    {
     "name": "stdout",
     "output_type": "stream",
     "text": [
      "             precision    recall  f1-score   support\n",
      "\n",
      "      False       0.63      0.57      0.60       169\n",
      "       True       0.65      0.70      0.68       191\n",
      "\n",
      "avg / total       0.64      0.64      0.64       360\n",
      "\n",
      "[[ 97  72]\n",
      " [ 57 134]]\n"
     ]
    }
   ],
   "source": [
    "from sklearn.metrics import classification_report, confusion_matrix\n",
    "print(classification_report(y_test, y_hat)) # reporte con la presicion por clase\n",
    "print(confusion_matrix(y_test, y_hat))"
   ]
  },
  {
   "cell_type": "code",
   "execution_count": 7,
   "metadata": {},
   "outputs": [
    {
     "data": {
      "text/plain": [
       "array([ 97,  72,  57, 134])"
      ]
     },
     "execution_count": 7,
     "metadata": {},
     "output_type": "execute_result"
    }
   ],
   "source": [
    "confusion_matrix(y_test, y_hat).ravel() "
   ]
  },
  {
   "cell_type": "code",
   "execution_count": 8,
   "metadata": {},
   "outputs": [
    {
     "name": "stdout",
     "output_type": "stream",
     "text": [
      "--- 1395.7107253074646 seconds ---\n"
     ]
    }
   ],
   "source": [
    "print(\"--- %s seconds ---\" % (time.time() - start_time))\n"
   ]
  },
  {
   "cell_type": "code",
   "execution_count": 9,
   "metadata": {},
   "outputs": [
    {
     "data": {
      "text/plain": [
       "Pipeline(memory=None,\n",
       "     steps=[('logistic', LogisticRegression(C=442413.3920089205, class_weight=None, dual=False,\n",
       "          fit_intercept=True, intercept_scaling=1, max_iter=100,\n",
       "          multi_class='ovr', n_jobs=1, penalty='l2', random_state=None,\n",
       "          solver='liblinear', tol=0.0001, verbose=0, warm_start=False))])"
      ]
     },
     "execution_count": 9,
     "metadata": {},
     "output_type": "execute_result"
    }
   ],
   "source": [
    "modelo.best_estimator_ # el mejor clasificador resulto ser la regresión logistica"
   ]
  },
  {
   "cell_type": "code",
   "execution_count": 10,
   "metadata": {},
   "outputs": [
    {
     "data": {
      "text/plain": [
       "442413.3920089205"
      ]
     },
     "execution_count": 10,
     "metadata": {},
     "output_type": "execute_result"
    }
   ],
   "source": [
    "hiperp = modelo.best_params_['logistic__C']\n",
    "hiperp"
   ]
  },
  {
   "cell_type": "code",
   "execution_count": 11,
   "metadata": {},
   "outputs": [
    {
     "data": {
      "text/plain": [
       "LogisticRegression(C=442413.3920089205, class_weight=None, dual=False,\n",
       "          fit_intercept=True, intercept_scaling=1, max_iter=100,\n",
       "          multi_class='ovr', n_jobs=1, penalty='l2', random_state=None,\n",
       "          solver='liblinear', tol=0.0001, verbose=0, warm_start=False)"
      ]
     },
     "execution_count": 11,
     "metadata": {},
     "output_type": "execute_result"
    }
   ],
   "source": [
    "final = LogisticRegression(C=hiperp) #entranamos el modelo con todos los datos para dar interpretación de las features\n",
    "final.fit(datos, y)\n"
   ]
  },
  {
   "cell_type": "code",
   "execution_count": 12,
   "metadata": {},
   "outputs": [
    {
     "data": {
      "text/plain": [
       "Text(0.5,1,'Categoria 0, valor del coeficiente estimado')"
      ]
     },
     "execution_count": 12,
     "metadata": {},
     "output_type": "execute_result"
    },
    {
     "data": {
      "image/png": "[encoded data removed]",
      "text/plain": [
       "<Figure size 432x288 with 1 Axes>"
      ]
     },
     "metadata": {
      "needs_background": "light"
     },
     "output_type": "display_data"
    }
   ],
   "source": [
    "plt.scatter( [i for i in range(83)] ,  final.coef_[0])\n",
    "plt.title('Categoria 0, valor del coeficiente estimado' )"
   ]
  },
  {
   "cell_type": "code",
   "execution_count": 15,
   "metadata": {},
   "outputs": [
    {
     "data": {
      "text/plain": [
       "Index(['X9', 'X11', 'X14', 'X18', 'X21', 'X23', 'X24', 'X27', 'X29', 'X34',\n",
       "       'X39', 'X44', 'X53', 'X61', 'X63', 'X64', 'X69', 'X73', 'X74', 'X79',\n",
       "       'X81'],\n",
       "      dtype='object')"
      ]
     },
     "execution_count": 15,
     "metadata": {},
     "output_type": "execute_result"
    }
   ],
   "source": [
    "datos.columns[ np.abs(final.coef_[0]) > 200]"
   ]
  },
  {
   "cell_type": "code",
   "execution_count": null,
   "metadata": {},
   "outputs": [],
   "source": []
  },
  {
   "cell_type": "code",
   "execution_count": null,
   "metadata": {},
   "outputs": [],
   "source": []
  },
  {
   "cell_type": "code",
   "execution_count": null,
   "metadata": {},
   "outputs": [],
   "source": []
  },
  {
   "cell_type": "code",
   "execution_count": null,
   "metadata": {},
   "outputs": [],
   "source": []
  }
 ],
 "metadata": {
  "kernelspec": {
   "display_name": "Python 3",
   "language": "python",
   "name": "python3"
  },
  "language_info": {
   "codemirror_mode": {
    "name": "ipython",
    "version": 3
   },
   "file_extension": ".py",
   "mimetype": "text/x-python",
   "name": "python",
   "nbconvert_exporter": "python",
   "pygments_lexer": "ipython3",
   "version": "3.7.0"
  }
 },
 "nbformat": 4,
 "nbformat_minor": 2
}
